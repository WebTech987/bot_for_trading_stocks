{
 "cells": [
  {
   "cell_type": "code",
   "execution_count": 16,
   "id": "19e6b917",
   "metadata": {},
   "outputs": [],
   "source": [
    "import yfinance as yf\n",
    "import alpaca_trade_api\n",
    "import time\n",
    "from pytz import timezone\n",
    "from datetime import datetime\n",
    "from msedge.selenium_tools import EdgeOptions, Edge\n",
    "import smtplib"
   ]
  },
  {
   "cell_type": "code",
   "execution_count": 17,
   "id": "fe8d724b",
   "metadata": {},
   "outputs": [],
   "source": [
    "#-----------authentication---------------IGNORE-------------------\n",
    "api_key = ''\n",
    "secret_key = ''\n",
    "endpoint = 'https://paper-api.alpaca.markets'\n",
    "api =  alpaca_trade_api.REST(api_key, secret_key, endpoint, api_version='v2')\n",
    "email_add = ''\n",
    "email_pass = ''"
   ]
  },
  {
   "cell_type": "code",
   "execution_count": 18,
   "id": "968ddc66",
   "metadata": {},
   "outputs": [],
   "source": [
    "#getting the list of stocks i want to trade using selenium web scraping \n",
    "def get_stock_list():\n",
    "    tickers=[]\n",
    "    url = 'https://finance.yahoo.com/gainers'\n",
    "\n",
    "    options = EdgeOptions()\n",
    "    options.use_chromium = True\n",
    "    options.add_argument(\"headless\")\n",
    "    options.add_argument(\"disable-gpu\")\n",
    "    options.binary_location = r\"\"                                          #input browser path\n",
    "    driver = Edge(executable_path= r\"\", options= options)                  #input browser's driver path\n",
    "    driver.get(url)\n",
    "    driver.implicitly_wait(5)\n",
    "\n",
    "    #top 5 gainers by percentage\n",
    "    for x in range(1,6):\n",
    "        per_change = driver.find_element_by_xpath(f'//*[@id=\"scr-res-table\"]/div[1]/table/tbody/tr[{x}]/td[5]/fin-streamer/span').text\n",
    "        if per_change[0] == '+':\n",
    "            tickers.append(driver.find_element_by_xpath(f'//*[@id=\"scr-res-table\"]/div[1]/table/tbody/tr[{x}]/td[1]/a').text)\n",
    "\n",
    "    #sorts table element on website by high to low\n",
    "    time.sleep(2)\n",
    "    element = driver.find_element_by_xpath('//*[@id=\"scr-res-table\"]/div[1]/table/thead/tr/th[4]')\n",
    "    element.click()\n",
    "    time.sleep(2)\n",
    "    element.click()\n",
    "    time.sleep(3)\n",
    "\n",
    "    #top 5 gainers by value\n",
    "    for x in range(1,6):\n",
    "        element = driver.find_element_by_xpath(f'//*[@id=\"scr-res-table\"]/div[1]/table/tbody/tr[{x}]/td[1]/a').text\n",
    "        change = driver.find_element_by_xpath(f'//*[@id=\"scr-res-table\"]/div[1]/table/tbody/tr[{x}]/td[4]/fin-streamer/span').text\n",
    "        if element not in tickers:\n",
    "            if change[0] == '+':\n",
    "                tickers.append(element)\n",
    "            else:\n",
    "                tickers.remove(element)\n",
    "\n",
    "    return tickers"
   ]
  },
  {
   "cell_type": "code",
   "execution_count": 19,
   "id": "e4d3fcc9",
   "metadata": {},
   "outputs": [],
   "source": [
    "#get latest price of the stock\n",
    "def get_current_price(symbol):\n",
    "    ticker_data = yf.Ticker(symbol)\n",
    "    data = ticker_data.history(period='1d')\n",
    "    return data['Close'][0]"
   ]
  },
  {
   "cell_type": "code",
   "execution_count": 20,
   "id": "93aa4dba",
   "metadata": {},
   "outputs": [],
   "source": [
    "#places a bracket order\n",
    "def place_order(sym, current_price):\n",
    "    if api.get_asset(sym).tradable:\n",
    "        api.submit_order(\n",
    "        symbol=sym,\n",
    "        qty=1,\n",
    "        side='buy',\n",
    "        type='market',\n",
    "        time_in_force='day',\n",
    "        order_class='bracket',\n",
    "        stop_loss={'stop_price': current_price * 0.90,      #sell when share pice falls 10% or below\n",
    "                'limit_price':  current_price * 0.90},\n",
    "        take_profit={'limit_price': current_price * 1.05}   #sell when share price rises 5% or more\n",
    "        )"
   ]
  },
  {
   "cell_type": "code",
   "execution_count": 21,
   "id": "0fcd4fd0",
   "metadata": {},
   "outputs": [],
   "source": [
    "#sends me an email\n",
    "def send_email(body):\n",
    "    with smtplib.SMTP_SSL('smtp.gmail.com', 465) as smtp:\n",
    "        smtp.login(email_add, email_pass)\n",
    "        msg = f'Subject: Trading Bot Alert\\n\\n{body}'\n",
    "        smtp.sendmail(email_add, email_add, msg)"
   ]
  },
  {
   "cell_type": "code",
   "execution_count": 22,
   "id": "015023ac",
   "metadata": {},
   "outputs": [],
   "source": [
    "#trading strategy\n",
    "def trade(stop_time):\n",
    "    while True:\n",
    "        l_est = timezone('America/New_York')\n",
    "        l_time_obj = datetime.now(l_est).strftime(\"%H:%M:%S\")\n",
    "        l_time = datetime.strptime(l_time_obj, \"%H:%M:%S\")\n",
    "        if l_time >= stop_time:\n",
    "            break\n",
    "\n",
    "        stock_list = get_stock_list()\n",
    "\n",
    "        portfolio = api.list_positions()        #currently owned stocks\n",
    "        owned = []\n",
    "        for x in portfolio:\n",
    "            owned.append(x.symbol)\n",
    "\n",
    "        for i in stock_list:\n",
    "            if i not in owned:\n",
    "                try:\n",
    "                    current_price = get_current_price(i)\n",
    "                    place_order(i,current_price)\n",
    "                except:\n",
    "                    continue\n",
    "\n",
    "        time.sleep(3600)"
   ]
  },
  {
   "cell_type": "code",
   "execution_count": 23,
   "id": "a15e6e38",
   "metadata": {},
   "outputs": [],
   "source": [
    "#main script to make trades when US markets open\n",
    "clock = api.get_clock()\n",
    "est = timezone('America/New_York')\n",
    "open_time = datetime.strptime('09:30:00', \"%H:%M:%S\")\n",
    "exec_time = datetime.strptime('09:59:00', \"%H:%M:%S\")\n",
    "stop_time = datetime.strptime('15:32:00', \"%H:%M:%S\")\n",
    "\n",
    "while True:\n",
    "    weekday = datetime.today().astimezone(est).weekday()\n",
    "    curr_time_obj = datetime.now(est).strftime(\"%H:%M:%S\")\n",
    "    curr_time = datetime.strptime(curr_time_obj, \"%H:%M:%S\")\n",
    "\n",
    "    if weekday <= 4:\n",
    "        if curr_time > open_time and clock.is_open == False:\n",
    "            send_email('Market Closed Today.')\n",
    "            time.sleep(84540)\n",
    "\n",
    "        if curr_time > open_time and clock.is_open == True and curr_time >= exec_time:\n",
    "            trade(stop_time)\n",
    "\n",
    "            if curr_time >= stop_time:\n",
    "                account = api.get_account()\n",
    "                balance_change = float(account.equity) - float(account.last_equity)\n",
    "\n",
    "                held_stocks = api.list_positions() \n",
    "                owned = ''\n",
    "                for x in held_stocks:\n",
    "                    owned += x.symbol + ', '\n",
    "\n",
    "                #send myself an email after market closes about the updates in my account \n",
    "                send_email(f'Today\\'s portfolio balance change: ${balance_change}\\n\\nCurrently owned stocks: {owned}')\n",
    "                time.sleep(64200)\n",
    "    else:\n",
    "        time.sleep(86400)"
   ]
  }
 ],
 "metadata": {
  "interpreter": {
   "hash": "63fd5069d213b44bf678585dea6b12cceca9941eaf7f819626cde1f2670de90d"
  },
  "kernelspec": {
   "display_name": "Python 3 (ipykernel)",
   "language": "python",
   "name": "python3"
  },
  "language_info": {
   "codemirror_mode": {
    "name": "ipython",
    "version": 3
   },
   "file_extension": ".py",
   "mimetype": "text/x-python",
   "name": "python",
   "nbconvert_exporter": "python",
   "pygments_lexer": "ipython3",
   "version": "3.9.13"
  }
 },
 "nbformat": 4,
 "nbformat_minor": 5
}
